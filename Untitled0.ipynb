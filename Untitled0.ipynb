{
  "nbformat": 4,
  "nbformat_minor": 0,
  "metadata": {
    "colab": {
      "name": "Untitled0.ipynb",
      "version": "0.3.2",
      "provenance": [],
      "include_colab_link": true
    },
    "kernelspec": {
      "name": "python3",
      "display_name": "Python 3"
    }
  },
  "cells": [
    {
      "cell_type": "markdown",
      "metadata": {
        "id": "view-in-github",
        "colab_type": "text"
      },
      "source": [
        "<a href=\"https://colab.research.google.com/github/emamex98/pf-bda-2019/blob/master/Untitled0.ipynb\" target=\"_parent\"><img src=\"https://colab.research.google.com/assets/colab-badge.svg\" alt=\"Open In Colab\"/></a>"
      ]
    },
    {
      "metadata": {
        "id": "AJMGPWkbuRGR",
        "colab_type": "code",
        "colab": {}
      },
      "cell_type": "code",
      "source": [
        "import pymongo"
      ],
      "execution_count": 0,
      "outputs": []
    },
    {
      "metadata": {
        "id": "lWxhIlqG17kt",
        "colab_type": "code",
        "outputId": "240b5a8d-b2e0-4622-fcd8-9bd356902f7b",
        "colab": {
          "base_uri": "https://localhost:8080/",
          "height": 34
        }
      },
      "cell_type": "code",
      "source": [
        "myclient = pymongo.MongoClient(\"mongodb://206.189.218.212:27017/\")\n",
        "\n",
        "dblist = myclient.list_database_names()\n",
        "if \"LIBROS\" in dblist:\n",
        "  print(\"The database exists.\")"
      ],
      "execution_count": 10,
      "outputs": [
        {
          "output_type": "stream",
          "text": [
            "The database exists.\n"
          ],
          "name": "stdout"
        }
      ]
    },
    {
      "metadata": {
        "id": "Gs0BqnEjwShb",
        "colab_type": "code",
        "colab": {
          "base_uri": "https://localhost:8080/",
          "height": 34
        },
        "outputId": "0ae5501b-e6a8-4e53-c4a2-1ec54200d429"
      },
      "cell_type": "code",
      "source": [
        "collist = mydb.list_collection_names()\n",
        "if \"Libros\" in collist:\n",
        "  print(\"The collection exists.\")"
      ],
      "execution_count": 11,
      "outputs": [
        {
          "output_type": "stream",
          "text": [
            "The collection exists.\n"
          ],
          "name": "stdout"
        }
      ]
    },
    {
      "metadata": {
        "id": "rrxRbeVCwiPq",
        "colab_type": "code",
        "colab": {
          "base_uri": "https://localhost:8080/",
          "height": 207
        },
        "outputId": "4219f0f7-4071-432c-da5b-eb78e8204bde"
      },
      "cell_type": "code",
      "source": [
        "mydb = myclient[\"LIBROS\"]\n",
        "mycol = mydb[\"Libros\"]\n",
        "\n",
        "for x in mycol.find():\n",
        "  print(x)"
      ],
      "execution_count": 12,
      "outputs": [
        {
          "output_type": "stream",
          "text": [
            "{'_id': ObjectId('5cbfc014b354235d12e85fbb'), 'Title': 'Simon vs. the Homo Sapiens Agenda', 'Author': 'Albertalli, Becky', 'Year': 2016, 'ISBN': '[006234868X, 9780062348685]'}\n",
            "{'_id': ObjectId('5cbfc014b354235d12e85fbc'), 'Title': 'Aristotle and Dante Discover the Secrets of the Universe', 'Author': 'Sáenz, Benjamin Alire', 'Year': 2014, 'ISBN': '[1442408936, 9781442408937]'}\n",
            "{'_id': ObjectId('5cbfc014b354235d12e85fbd'), 'Title': 'Carry On: A Novel', 'Author': 'Rowell, Rainbow', 'Year': 2015, 'ISBN': '[1250049555, 9781250049551]'}\n",
            "{'_id': ObjectId('5cbfc014b354235d12e85fbe'), 'Title': 'Ash', 'Author': 'Lo, Malinda', 'Year': 2010, 'ISBN': '[031604010X, 9780316040105]'}\n",
            "{'_id': ObjectId('5cbfc014b354235d12e85fbf'), 'Title': \"I'll Give You the Sun\", 'Author': 'Nelson, Jandy', 'Year': 2015, 'ISBN': '[0142425761, 9780142425763]'}\n",
            "{'_id': ObjectId('5cbfc014b354235d12e85fc0'), 'Title': 'Will Grayson, Will Grayson', 'Author': 'Green, John', 'Year': 2011, 'ISBN': '[0142418471, 9780142418475]'}\n",
            "{'_id': ObjectId('5cbfc014b354235d12e85fc1'), 'Title': 'Annie on My Mind', 'Author': 'Garden, Nancy', 'Year': 2007, 'ISBN': '[0374400113, 9780374400118]'}\n",
            "{'_id': ObjectId('5cbfc014b354235d12e85fc2'), 'Title': 'The Perks of Being a Wallflower', 'Author': 'Chbosky, Stephen', 'Year': 2012, 'ISBN': '[9781451696196, 1451696191]'}\n",
            "{'_id': ObjectId('5cbfc014b354235d12e85fc3'), 'Title': 'Boy Meets Boy', 'Author': 'Levithan, David', 'Year': 2005, 'ISBN': '[9780375832994, 0375832998]'}\n",
            "{'_id': ObjectId('5cbfc014b354235d12e85fc4'), 'Title': 'One Man Guy', 'Author': 'Barakiva, Michael', 'Year': 2016, 'ISBN': '[125007357X, 9781250073570]'}\n"
          ],
          "name": "stdout"
        }
      ]
    }
  ]
}