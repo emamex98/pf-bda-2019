{
  "nbformat": 4,
  "nbformat_minor": 0,
  "metadata": {
    "colab": {
      "name": "funciones.ipynb",
      "version": "0.3.2",
      "provenance": [],
      "collapsed_sections": [],
      "include_colab_link": true
    },
    "kernelspec": {
      "name": "python3",
      "display_name": "Python 3"
    }
  },
  "cells": [
    {
      "cell_type": "markdown",
      "metadata": {
        "id": "view-in-github",
        "colab_type": "text"
      },
      "source": [
        "<a href=\"https://colab.research.google.com/github/emamex98/pf-bda-2019/blob/master/untitled0.ipynb\" target=\"_parent\"><img src=\"https://colab.research.google.com/assets/colab-badge.svg\" alt=\"Open In Colab\"/></a>"
      ]
    },
    {
      "cell_type": "code",
      "metadata": {
        "id": "AJMGPWkbuRGR",
        "colab_type": "code",
        "colab": {}
      },
      "source": [
        "import pymongo"
      ],
      "execution_count": 0,
      "outputs": []
    },
    {
      "cell_type": "code",
      "metadata": {
        "id": "lWxhIlqG17kt",
        "colab_type": "code",
        "outputId": "c92810c0-fa5b-4a63-c60f-752dbf707d97",
        "colab": {
          "base_uri": "https://localhost:8080/",
          "height": 51
        }
      },
      "source": [
        "myclient = pymongo.MongoClient(\"mongodb://206.189.218.212:27017/\")\n",
        "\n",
        "dblist = myclient.list_database_names()\n",
        "if \"LIBROS\" in dblist:\n",
        "  mydb = myclient[\"LIBROS\"] \n",
        "  print(\"The database exists.\")\n",
        "  \n",
        "collist = mydb.list_collection_names()\n",
        "if \"Libros\" in collist:\n",
        "  print(\"The collection exists.\")"
      ],
      "execution_count": 0,
      "outputs": [
        {
          "output_type": "stream",
          "text": [
            "The database exists.\n",
            "The collection exists.\n"
          ],
          "name": "stdout"
        }
      ]
    },
    {
      "cell_type": "code",
      "metadata": {
        "id": "Gs0BqnEjwShb",
        "colab_type": "code",
        "outputId": "d67af64a-ada0-4cd7-8184-34976cd9303f",
        "colab": {
          "base_uri": "https://localhost:8080/",
          "height": 34
        }
      },
      "source": [
        "collist = mydb.list_collection_names()\n",
        "if \"Libros\" in collist:\n",
        "  print(\"The collection exists.\")"
      ],
      "execution_count": 0,
      "outputs": [
        {
          "output_type": "stream",
          "text": [
            "The collection exists.\n"
          ],
          "name": "stdout"
        }
      ]
    },
    {
      "cell_type": "markdown",
      "metadata": {
        "id": "aAtGpHpoI7ld",
        "colab_type": "text"
      },
      "source": [
        "Limpieza de datos"
      ]
    },
    {
      "cell_type": "code",
      "metadata": {
        "id": "rrxRbeVCwiPq",
        "colab_type": "code",
        "outputId": "3f1a8c17-3e36-4373-c989-add22317a7b8",
        "colab": {
          "base_uri": "https://localhost:8080/",
          "height": 479
        }
      },
      "source": [
        "mydb = myclient[\"LIBROS\"]\n",
        "mycol = mydb[\"Libros\"]\n",
        "\n",
        "for x in mycol.find():\n",
        "  print(x)"
      ],
      "execution_count": 0,
      "outputs": [
        {
          "output_type": "stream",
          "text": [
            "{'_id': ObjectId('5cbfc014b354235d12e85fbb'), 'Title': 'Simon vs. the Homo Sapiens Agenda', 'Author': 'Albertalli, Becky', 'Year': 2016, 'ISBN': '[006234868X, 9780062348685]', 'Genre': 'LGBT'}\n",
            "{'_id': ObjectId('5cbfc014b354235d12e85fbc'), 'Title': 'Aristotle and Dante Discover the Secrets of the Universe', 'Author': 'Sáenz, Benjamin Alire', 'Year': 2014, 'ISBN': '[1442408936, 9781442408937]', 'Genre': 'LGBT'}\n",
            "{'_id': ObjectId('5cbfc014b354235d12e85fbd'), 'Title': 'Carry On: A Novel', 'Author': 'Rowell, Rainbow', 'Year': 2015, 'ISBN': '[1250049555, 9781250049551]', 'Genre': 'LGBT'}\n",
            "{'_id': ObjectId('5cbfc014b354235d12e85fbe'), 'Title': 'Ash', 'Author': 'Lo, Malinda', 'Year': 2010, 'ISBN': '[031604010X, 9780316040105]', 'Genre': 'LGBT'}\n",
            "{'_id': ObjectId('5cbfc014b354235d12e85fbf'), 'Title': \"I'll Give You the Sun\", 'Author': 'Nelson, Jandy', 'Year': 2015, 'ISBN': '[0142425761, 9780142425763]', 'Genre': 'LGBT'}\n",
            "{'_id': ObjectId('5cbfc014b354235d12e85fc0'), 'Title': 'Will Grayson, Will Grayson', 'Author': 'Green, John', 'Year': 2011, 'ISBN': '[0142418471, 9780142418475]', 'Genre': 'LGBT'}\n",
            "{'_id': ObjectId('5cbfc014b354235d12e85fc1'), 'Title': 'Annie on My Mind', 'Author': 'Garden, Nancy', 'Year': 2007, 'ISBN': '[0374400113, 9780374400118]', 'Genre': 'LGBT'}\n",
            "{'_id': ObjectId('5cbfc014b354235d12e85fc2'), 'Title': 'The Perks of Being a Wallflower', 'Author': 'Chbosky, Stephen', 'Year': 2012, 'ISBN': '[9781451696196, 1451696191]', 'Genre': 'Teenage Romance'}\n",
            "{'_id': ObjectId('5cbfc014b354235d12e85fc3'), 'Title': 'Boy Meets Boy', 'Author': 'Levithan, David', 'Year': 2005, 'ISBN': '[9780375832994, 0375832998]', 'Genre': 'LGBT'}\n",
            "{'_id': ObjectId('5cbfc014b354235d12e85fc4'), 'Title': 'One Man Guy', 'Author': 'Barakiva, Michael', 'Year': 2016, 'ISBN': '[125007357X, 9781250073570]', 'Genre': 'LGBT'}\n",
            "{'_id': ObjectId('5cc2e4d105a0820a8e03d9e9'), 'Title': 'Something Like Summer', 'Author': 'Bell, Jay', 'Year': 2011, 'ISBN': '[1453875042, 9781453875049]', 'Genre': 'LGBT'}\n",
            "{'_id': ObjectId('5cc399dd0398b851049060cb'), 'Title': 'The Shining', 'Author': 'King, Stephen', 'Year': 2008, 'Genre': 'Terror', 'ISBN': '[9780385528863, 0385528868]'}\n",
            "{'_id': ObjectId('5cc399dd0398b851049060cc'), 'Title': 'Hamlet ( Folger Library Shakespeare)', 'Author': 'Shakespeare, William', 'Year': 1992, 'Genre': 'Theatre', 'ISBN': '[9780743477123, 074347712X]'}\n",
            "{'_id': ObjectId('5cc399dd0398b851049060cd'), 'Title': 'Pride and Prejudice', 'Author': 'Austen, Jane', 'Year': 2002, 'Genre': 'Drama', 'ISBN': '[9780141439518, 0141439513]'}\n",
            "{'_id': ObjectId('5cc399dd0398b851049060ce'), 'Title': 'To Kill a Mockingbird', 'Author': 'Lee, Harper', 'Year': 2002, 'Genre': 'American Literature', 'ISBN': '[0060935464, 9780060935467]'}\n",
            "{'_id': ObjectId('5cc399dd0398b851049060cf'), 'Title': 'Go Set a Watchman: A Novel', 'Author': 'Lee, Harper', 'Year': 2015, 'Genre': 'American Literature', 'ISBN': '[9780062409850, 0062409859]'}\n",
            "{'_id': ObjectId('5cc399dd0398b851049060d0'), 'Title': 'Ensayo sobre la ceguera [Blindness]', 'Author': 'Saramago, Jose', 'Year': 2018, 'Genre': 'Drama', 'ISBN': '[9786071106, 9786071106643]'}\n",
            "{'_id': ObjectId('5cc399dd0398b851049060d1'), 'Title': 'The Catcher in the Rye', 'Author': 'Salinger, J. D.', 'Year': 1991, 'Genre': 'American Literature', 'ISBN': '[7543321726, 9787543321724]'}\n",
            "{'_id': ObjectId('5cc399dd0398b851049060d2'), 'Title': 'The Kite Runner', 'Author': 'Hosseini, Khaled', 'Year': 2013, 'Genre': 'Drama', 'ISBN': '[9781594631931, 159463193X]'}\n",
            "{'_id': ObjectId('5cc399dd0398b851049060d3'), 'Title': 'Looking for Alaska', 'Author': 'Green, John', 'Year': 2006, 'Genre': 'American Literature', 'ISBN': '[0142402516, 9780142402511]'}\n",
            "{'_id': ObjectId('5cc399dd0398b851049060d4'), 'Title': 'A Game of Thrones (Song of Ice and Fire)', 'Author': 'Martin, George R. R.', 'Year': 1996, 'Genre': 'Drama', 'ISBN': '[0553103547, 9780553103540]'}\n",
            "{'_id': ObjectId('5cc399dd0398b851049060d5'), 'Title': 'Lord of the Flies', 'Author': 'Golding, William', 'Year': 2003, 'Genre': 'Drama', 'ISBN': '[0399501487, 9780399501487]'}\n",
            "{'_id': ObjectId('5cc399dd0398b851049060d6'), 'Title': 'The Fellowship of the Ring: Being the First Part of The Lord of the Rings', 'Author': 'Tolkien, J.R.R.', 'Year': 2012, 'Genre': 'Drama', 'ISBN': '[0547928211, 9780547928210]'}\n",
            "{'_id': ObjectId('5cc399dd0398b851049060d7'), 'Title': 'El Llano en llamas (Coleccion Letras Hispanicas, 218) (Spanish Edition)', 'Author': 'Rulfo, Juan', 'Year': 1985, 'Genre': 'Literatura Mexicana', 'ISBN': '[8437605121, 9788437605128]'}\n",
            "{'_id': ObjectId('5cc399dd0398b851049060d8'), 'Title': 'Pedro Paramo', 'Author': 'Rulfo, Juan', 'Year': 1994, 'Genre': 'Literatura Mexicana', 'ISBN': '[0802133908, 9780802133908]'}\n",
            "{'_id': ObjectId('5cc3a490db1974796ad4d839'), 'Title': 'El principito', 'Author': 'de Saint-Exupéry, Antoine', 'Year': 2001, 'ISBN': '[9687748044,9789687748047]', 'Genre': 'Infantil'}\n"
          ],
          "name": "stdout"
        }
      ]
    },
    {
      "cell_type": "code",
      "metadata": {
        "id": "HW_YksdR52r9",
        "colab_type": "code",
        "outputId": "2224e77e-1900-4bd7-f61b-3402cfae2125",
        "colab": {
          "base_uri": "https://localhost:8080/",
          "height": 269
        }
      },
      "source": [
        "mycol.totalSize()"
      ],
      "execution_count": 0,
      "outputs": [
        {
          "output_type": "error",
          "ename": "TypeError",
          "evalue": "ignored",
          "traceback": [
            "\u001b[0;31m---------------------------------------------------------------------------\u001b[0m",
            "\u001b[0;31mTypeError\u001b[0m                                 Traceback (most recent call last)",
            "\u001b[0;32m<ipython-input-5-5c17471054e4>\u001b[0m in \u001b[0;36m<module>\u001b[0;34m()\u001b[0m\n\u001b[0;32m----> 1\u001b[0;31m \u001b[0mmycol\u001b[0m\u001b[0;34m.\u001b[0m\u001b[0mtotalSize\u001b[0m\u001b[0;34m(\u001b[0m\u001b[0;34m)\u001b[0m\u001b[0;34m\u001b[0m\u001b[0;34m\u001b[0m\u001b[0m\n\u001b[0m",
            "\u001b[0;32m/usr/local/lib/python3.6/dist-packages/pymongo/collection.py\u001b[0m in \u001b[0;36m__call__\u001b[0;34m(self, *args, **kwargs)\u001b[0m\n\u001b[1;32m   3354\u001b[0m                         \u001b[0;34m\"call the '%s' method on a 'Collection' object it is \"\u001b[0m\u001b[0;34m\u001b[0m\u001b[0;34m\u001b[0m\u001b[0m\n\u001b[1;32m   3355\u001b[0m                         \u001b[0;34m\"failing because no such method exists.\"\u001b[0m \u001b[0;34m%\u001b[0m\u001b[0;34m\u001b[0m\u001b[0;34m\u001b[0m\u001b[0m\n\u001b[0;32m-> 3356\u001b[0;31m                         self.__name.split(\".\")[-1])\n\u001b[0m",
            "\u001b[0;31mTypeError\u001b[0m: 'Collection' object is not callable. If you meant to call the 'totalSize' method on a 'Collection' object it is failing because no such method exists."
          ]
        }
      ]
    },
    {
      "cell_type": "markdown",
      "metadata": {
        "id": "SzjZUTjg5vJs",
        "colab_type": "text"
      },
      "source": [
        ""
      ]
    },
    {
      "cell_type": "code",
      "metadata": {
        "id": "MXwNvaGjW6cF",
        "colab_type": "code",
        "outputId": "2802603d-ae5e-4dc8-8a9c-f68e6c943e3e",
        "colab": {
          "base_uri": "https://localhost:8080/",
          "height": 34
        }
      },
      "source": [
        "myquery = { \"Title\": \"Something Like Summer\" }\n",
        "newvalues = { \"$set\": { \"ISBN\": \"[1453875042, 9781453875049]\" } }\n",
        "mycol.update_one(myquery, newvalues)"
      ],
      "execution_count": 0,
      "outputs": [
        {
          "output_type": "execute_result",
          "data": {
            "text/plain": [
              "<pymongo.results.UpdateResult at 0x7f0e20375b48>"
            ]
          },
          "metadata": {
            "tags": []
          },
          "execution_count": 5
        }
      ]
    },
    {
      "cell_type": "code",
      "metadata": {
        "id": "S-5BI3dZSytL",
        "colab_type": "code",
        "outputId": "fe7fc53d-4532-44cb-ea71-115767ac5e80",
        "colab": {
          "base_uri": "https://localhost:8080/",
          "height": 34
        }
      },
      "source": [
        "myquery = { \"Title\": \"The Perks of Being a Wallflower\" }\n",
        "newvalues = { \"$set\": { \"Genre\": \"Teenage Romance\" } }\n",
        "mycol.update_one(myquery, newvalues)"
      ],
      "execution_count": 0,
      "outputs": [
        {
          "output_type": "execute_result",
          "data": {
            "text/plain": [
              "<pymongo.results.UpdateResult at 0x7f0e1f320608>"
            ]
          },
          "metadata": {
            "tags": []
          },
          "execution_count": 6
        }
      ]
    },
    {
      "cell_type": "code",
      "metadata": {
        "id": "5NhvyPS-BkmD",
        "colab_type": "code",
        "outputId": "733e0f12-fce2-4139-a156-594b953b2ce1",
        "colab": {
          "base_uri": "https://localhost:8080/",
          "height": 230
        }
      },
      "source": [
        "#Add\n",
        "\n",
        "def addMongo(title, author, year, isbn,genre):\n",
        "  book = {'Title': title, 'Author': author, 'Year': year, 'ISBN': isbn, 'Genre':genre}\n",
        "  x = mycol.insert_one(book)\n",
        "  \n",
        "\n",
        "for x in mycol.find():\n",
        "  print(x)\n",
        "  "
      ],
      "execution_count": 0,
      "outputs": [
        {
          "output_type": "stream",
          "text": [
            "{'_id': ObjectId('5cbfc014b354235d12e85fbb'), 'Title': 'Simon vs. the Homo Sapiens Agenda', 'Author': 'Albertalli, Becky', 'Year': 2016, 'ISBN': '[006234868X, 9780062348685]', 'Genre': 'LGBT'}\n",
            "{'_id': ObjectId('5cbfc014b354235d12e85fbc'), 'Title': 'Aristotle and Dante Discover the Secrets of the Universe', 'Author': 'Sáenz, Benjamin Alire', 'Year': 2014, 'ISBN': '[1442408936, 9781442408937]', 'Genre': 'LGBT'}\n",
            "{'_id': ObjectId('5cbfc014b354235d12e85fbd'), 'Title': 'Carry On: A Novel', 'Author': 'Rowell, Rainbow', 'Year': 2015, 'ISBN': '[1250049555, 9781250049551]', 'Genre': 'LGBT'}\n",
            "{'_id': ObjectId('5cbfc014b354235d12e85fbe'), 'Title': 'Ash', 'Author': 'Lo, Malinda', 'Year': 2010, 'ISBN': '[031604010X, 9780316040105]', 'Genre': 'LGBT'}\n",
            "{'_id': ObjectId('5cbfc014b354235d12e85fbf'), 'Title': \"I'll Give You the Sun\", 'Author': 'Nelson, Jandy', 'Year': 2015, 'ISBN': '[0142425761, 9780142425763]', 'Genre': 'LGBT'}\n",
            "{'_id': ObjectId('5cbfc014b354235d12e85fc0'), 'Title': 'Will Grayson, Will Grayson', 'Author': 'Green, John', 'Year': 2011, 'ISBN': '[0142418471, 9780142418475]', 'Genre': 'LGBT'}\n",
            "{'_id': ObjectId('5cbfc014b354235d12e85fc1'), 'Title': 'Annie on My Mind', 'Author': 'Garden, Nancy', 'Year': 2007, 'ISBN': '[0374400113, 9780374400118]', 'Genre': 'LGBT'}\n",
            "{'_id': ObjectId('5cbfc014b354235d12e85fc2'), 'Title': 'The Perks of Being a Wallflower', 'Author': 'Chbosky, Stephen', 'Year': 2012, 'ISBN': '[9781451696196, 1451696191]', 'Genre': 'Teenage Romance'}\n",
            "{'_id': ObjectId('5cbfc014b354235d12e85fc3'), 'Title': 'Boy Meets Boy', 'Author': 'Levithan, David', 'Year': 2005, 'ISBN': '[9780375832994, 0375832998]', 'Genre': 'LGBT'}\n",
            "{'_id': ObjectId('5cbfc014b354235d12e85fc4'), 'Title': 'One Man Guy', 'Author': 'Barakiva, Michael', 'Year': 2016, 'ISBN': '[125007357X, 9781250073570]', 'Genre': 'LGBT'}\n",
            "{'_id': ObjectId('5cc2e4d105a0820a8e03d9e9'), 'Title': 'Something Like Summer', 'Author': 'Bell, Jay', 'Year': 2011, 'ISBN': '[1453875042, 9781453875049]', 'Genre': 'LGBT'}\n"
          ],
          "name": "stdout"
        }
      ]
    },
    {
      "cell_type": "code",
      "metadata": {
        "id": "59_Om3dfD_gc",
        "colab_type": "code",
        "colab": {}
      },
      "source": [
        "# Search\n",
        "\n",
        "import re\n",
        "#config.gThingCollection.find({\"name\": re.compile(regex, re.IGNORECASE)})\n",
        "\n",
        "def searchTitle(title):\n",
        "  #book = mycol.find_one({'Title': title})\n",
        "  book = list(mycol.find({'Title': re.compile(title, re.IGNORECASE)}))\n",
        "  return book\n",
        "\n",
        "def searchAuthor(author):\n",
        "  book = list(mycol.find({'Author': author}))\n",
        "  return book\n",
        "\n",
        "def searchYear(year):\n",
        "  book = list(mycol.find({'Year':year}))\n",
        "  return book\n",
        "\n",
        "def searchISBN(isbn):\n",
        "  book = list(mycol.find({'ISBN':isbn}))\n",
        "  return book\n",
        "\n",
        "#def searchGenre(genre){\n",
        "#    book = list(mycol.find({'Genre':genre}))\n",
        "#}\n",
        "\n",
        "searchTitle('one man guy')\n",
        "mystring = 'hero: ,74$2d'\n",
        "#print(re.sub('[^A-Za-z0-9]+', '', mystring))"
      ],
      "execution_count": 0,
      "outputs": []
    },
    {
      "cell_type": "code",
      "metadata": {
        "id": "yr7rmHSeIgnG",
        "colab_type": "code",
        "outputId": "10b87d97-f70c-47e4-ac92-7a2d9ea8d5bc",
        "colab": {
          "base_uri": "https://localhost:8080/",
          "height": 34
        }
      },
      "source": [
        "# Delete\n",
        "\n",
        "def deleteMongo(isbn):\n",
        "  book = mycol.delete_one({'ISBN':isbn})\n",
        "  return book.deleted_count\n",
        "\n",
        "deleteMongo('[10,13]')"
      ],
      "execution_count": 0,
      "outputs": [
        {
          "output_type": "execute_result",
          "data": {
            "text/plain": [
              "0"
            ]
          },
          "metadata": {
            "tags": []
          },
          "execution_count": 9
        }
      ]
    },
    {
      "cell_type": "code",
      "metadata": {
        "id": "yGKgDiUNamNx",
        "colab_type": "code",
        "outputId": "5c0e7a02-8413-4742-9d4a-0a0e017cbf81",
        "colab": {
          "base_uri": "https://localhost:8080/",
          "height": 34
        }
      },
      "source": [
        "# Advanced Search\n",
        "import pandas\n",
        "import json\n",
        "\n",
        "df = pandas.DataFrame(list(mycol.find()))\n",
        "\n",
        "def searchTitleAd(title):\n",
        "  \n",
        "  df = pandas.DataFrame(list(mycol.find()))\n",
        "  \n",
        "  words = title.split(\" \")\n",
        "  lst = []\n",
        "  for i in words:\n",
        "    jsonvar = json.loads(df[df[\"Title\"].str.contains(i, case=False)].drop('_id', axis=1).to_json(orient= \"records\",force_ascii=False))\n",
        "    templst = [i for i in jsonvar]\n",
        "    for i in templst:\n",
        "      if i not in lst:\n",
        "        lst.append(i)\n",
        "    return lst\n",
        "  \n",
        "def searchAuthorAd(author):\n",
        "  \n",
        "  df = pandas.DataFrame(list(mycol.find()))\n",
        "  \n",
        "  author = author.replace(',', '')\n",
        "  words = author.split(\" \")\n",
        "  lst = []\n",
        "  for i in words:\n",
        "    jsonvar = json.loads(df[df[\"Author\"].str.contains(i, case=False)].drop('_id', axis=1).to_json(orient= \"records\",force_ascii=False))\n",
        "    templst = [i for i in jsonvar]\n",
        "    for i in templst:\n",
        "      if i not in lst:\n",
        "        lst.append(i)\n",
        "    return lst\n",
        "  \n",
        "\n",
        "  \n",
        "\n",
        "#searchTitleAd('one')\n",
        "print(searchTitleAd('summr'))\n"
      ],
      "execution_count": 0,
      "outputs": [
        {
          "output_type": "stream",
          "text": [
            "[]\n"
          ],
          "name": "stdout"
        }
      ]
    },
    {
      "cell_type": "code",
      "metadata": {
        "id": "uSwlcHGzc-Bh",
        "colab_type": "code",
        "outputId": "51c2ccd8-d00f-400f-d56e-9b3bfe819a36",
        "colab": {
          "base_uri": "https://localhost:8080/",
          "height": 175
        }
      },
      "source": [
        "!pip install distance"
      ],
      "execution_count": 0,
      "outputs": [
        {
          "output_type": "stream",
          "text": [
            "Collecting distance\n",
            "\u001b[?25l  Downloading https://files.pythonhosted.org/packages/5c/1a/883e47df323437aefa0d0a92ccfb38895d9416bd0b56262c2e46a47767b8/Distance-0.1.3.tar.gz (180kB)\n",
            "\u001b[K    100% |████████████████████████████████| 184kB 6.9MB/s \n",
            "\u001b[?25hBuilding wheels for collected packages: distance\n",
            "  Building wheel for distance (setup.py) ... \u001b[?25ldone\n",
            "\u001b[?25h  Stored in directory: /root/.cache/pip/wheels/d5/aa/e1/dbba9e7b6d397d645d0f12db1c66dbae9c5442b39b001db18e\n",
            "Successfully built distance\n",
            "Installing collected packages: distance\n",
            "Successfully installed distance-0.1.3\n"
          ],
          "name": "stdout"
        }
      ]
    },
    {
      "cell_type": "code",
      "metadata": {
        "id": "82lLLS9kXeXj",
        "colab_type": "code",
        "colab": {}
      },
      "source": [
        "#print(re.sub('[^A-Za-z0-9]+', '', mystring))\n",
        "\n",
        "import distance as dis\n",
        "\n",
        "def genListTitle():\n",
        "  lst = df[\"Title\"].tolist()\n",
        "  titlesdb = []\n",
        "  for i in lst:\n",
        "    words = i.split(\" \")\n",
        "    for j in words:\n",
        "      j = re.sub('[^A-Za-z0-9]+', '', j)\n",
        "      if j not in titlesdb:\n",
        "        titlesdb.append(j)\n",
        "  return titlesdb\n",
        "\n",
        "def predictTitleSearch(title):\n",
        "  titlesdb = genListTitle()\n",
        "  temp = []\n",
        "  words = title.split(\" \")\n",
        "  for i in words:\n",
        "    temp2 = []\n",
        "    dif = 1000000\n",
        "    for j in titlesdb:\n",
        "      dist = dis.levenshtein(i, j)\n",
        "      if dif > dist and dist<4:\n",
        "        temp2.clear()\n",
        "        dif = dist\n",
        "        temp2.append(j)\n",
        "      elif dif == dist:\n",
        "        temp2.append(j)\n",
        "    temp += temp2\n",
        "    lst = []\n",
        "  for i in temp:\n",
        "    jsonvar = json.loads(df[df[\"Title\"].str.contains(i, case=False)].drop('_id', axis=1).to_json(orient= \"records\",force_ascii=False))\n",
        "    templst = [i for i in jsonvar]\n",
        "    for i in templst:\n",
        "      if i not in lst:\n",
        "        lst.append(i)\n",
        "  return lst\n",
        "  \n",
        "  #return []\n",
        "\n",
        "predictTitleSearch('michael')\n",
        "#genList()\n",
        "\n",
        "\n",
        "#### IMPLEMENTAR ASI ######\n",
        "\n",
        "def predictTitleSearch(title):\n",
        "    mycol = connectToDatabase() \n",
        "    df = pandas.DataFrame(list(mycol.find()))\n",
        "\n",
        "    lst = df[\"Title\"].tolist()\n",
        "    titlesdb = []\n",
        "    for i in lst:\n",
        "        words = i.split(\" \")\n",
        "        for j in words:\n",
        "            j = re.sub('[^A-Za-z0-9]+', '', j)\n",
        "            if j not in titlesdb:\n",
        "                titlesdb.append(j)\n",
        "  \n",
        "    temp = []\n",
        "    words = title.split(\" \")\n",
        "\n",
        "    for i in words:\n",
        "        temp2 = []\n",
        "        dif = 1000000\n",
        "        for j in titlesdb:\n",
        "            dist = dis.levenshtein(i, j)\n",
        "            if dif > dist and dist < 4:\n",
        "                temp2.clear()\n",
        "                dif = dist\n",
        "                temp2.append(j)\n",
        "            elif dif == dist:\n",
        "                temp2.append(j)\n",
        "            temp += temp2\n",
        "            lst = []\n",
        "        for i in temp:\n",
        "            jsonvar = json.loads(df[df[\"Title\"].str.contains(i, case=False)].drop('_id', axis=1).to_json(orient= \"records\",force_ascii=False))\n",
        "            templst = [i for i in jsonvar]\n",
        "            for i in templst:\n",
        "                if i not in lst:\n",
        "                    lst.append(i)\n",
        "    return lst\n"
      ],
      "execution_count": 0,
      "outputs": []
    },
    {
      "cell_type": "code",
      "metadata": {
        "id": "4PnPHWBInRzk",
        "colab_type": "code",
        "outputId": "d3deff9e-38d0-4514-963b-193d1c90630c",
        "colab": {
          "base_uri": "https://localhost:8080/",
          "height": 105
        }
      },
      "source": [
        "def isbnSearch(isbn):\n",
        "  mycol = connectToDatabase() \n",
        "  df = pandas.DataFrame(list(mycol.find()))\n",
        "  \n",
        "  jsonvar = json.loads(df[df[\"ISBN\"].str.contains(isbn, case=False)].drop('_id', axis=1).to_json(orient= \"records\",force_ascii=False))\n",
        "  lst = [i for i in jsonvar]\n",
        "  return lst\n",
        "\n",
        "isbnSearch('9780374400118')"
      ],
      "execution_count": 0,
      "outputs": [
        {
          "output_type": "execute_result",
          "data": {
            "text/plain": [
              "[{'Author': 'Garden, Nancy',\n",
              "  'Genre': 'LGBT',\n",
              "  'ISBN': '[0374400113, 9780374400118]',\n",
              "  'Title': 'Annie on My Mind',\n",
              "  'Year': 2007}]"
            ]
          },
          "metadata": {
            "tags": []
          },
          "execution_count": 13
        }
      ]
    },
    {
      "cell_type": "code",
      "metadata": {
        "id": "zMB9y4s_sqS6",
        "colab_type": "code",
        "outputId": "6c538fcd-84f6-4c6b-c014-3f5c0fbbf9e9",
        "colab": {
          "base_uri": "https://localhost:8080/",
          "height": 105
        }
      },
      "source": [
        "###Implementacion Una Funcion###\n",
        "\n",
        "def authorAdvancedSearch(author):\n",
        "  #mycol = connectToDatabase() \n",
        "  #df = pandas.DataFrame(list(mycol.find()))\n",
        "  \n",
        "  lst = df[\"Author\"].tolist()\n",
        "  authordb = []\n",
        "  for i in lst:\n",
        "    words = i.split(\" \")\n",
        "    for j in words:\n",
        "      j = re.sub('[^A-Za-z0-9]+', '', j)\n",
        "      if j not in authordb:\n",
        "        authordb.append(j)\n",
        "  temp = []\n",
        "  words = author.split(\" \")\n",
        "  for i in words:\n",
        "    temp2 = []\n",
        "    dif = 1000000\n",
        "    for j in authordb:\n",
        "      dist = dis.levenshtein(i, j)\n",
        "      if dif > dist:\n",
        "        temp2.clear()\n",
        "        dif = dist\n",
        "        temp2.append(j)\n",
        "      elif dif == dist:\n",
        "        temp2.append(j)\n",
        "    temp += temp2\n",
        "    lst = []\n",
        "  for i in temp:\n",
        "    jsonvar = json.loads(df[df[\"Author\"].str.contains(i, case=False)].drop('_id', axis=1).to_json(orient= \"records\",force_ascii=False))\n",
        "    templst = [i for i in jsonvar]\n",
        "    for i in templst:\n",
        "      if i not in lst:\n",
        "        lst.append(i)\n",
        "    return lst\n",
        "\n",
        "\n",
        "authorAdvancedSearch('becke')"
      ],
      "execution_count": 0,
      "outputs": [
        {
          "output_type": "execute_result",
          "data": {
            "text/plain": [
              "[{'Author': 'Albertalli, Becky',\n",
              "  'Genre': 'LGBT',\n",
              "  'ISBN': '[006234868X, 9780062348685]',\n",
              "  'Title': 'Simon vs. the Homo Sapiens Agenda',\n",
              "  'Year': 2016}]"
            ]
          },
          "metadata": {
            "tags": []
          },
          "execution_count": 17
        }
      ]
    },
    {
      "cell_type": "code",
      "metadata": {
        "id": "hYr-dQwFzYtD",
        "colab_type": "code",
        "outputId": "ca92177a-6d73-450f-d53f-ae7f26bb1faf",
        "colab": {
          "base_uri": "https://localhost:8080/",
          "height": 105
        }
      },
      "source": [
        "def authorAdvancedSearch(author):\n",
        "  #mycol = connectToDatabase() \n",
        "  #df = pandas.DataFrame(list(mycol.find()))\n",
        "  \n",
        "  authordb = genListAuthor()\n",
        "  temp = []\n",
        "  words = author.split(\" \")\n",
        "  for i in words:\n",
        "    temp2 = []\n",
        "    dif = 1000000\n",
        "    for j in authordb:\n",
        "      dist = dis.levenshtein(i, j)\n",
        "      if dif > dist:\n",
        "        temp2.clear()\n",
        "        dif = dist\n",
        "        temp2.append(j)\n",
        "      elif dif == dist:\n",
        "        temp2.append(j)\n",
        "    temp += temp2\n",
        "    lst = []\n",
        "  for i in temp:\n",
        "    jsonvar = json.loads(df[df[\"Author\"].str.contains(i, case=False)].drop('_id', axis=1).to_json(orient= \"records\",force_ascii=False))\n",
        "    templst = [i for i in jsonvar]\n",
        "    for i in templst:\n",
        "      if i not in lst:\n",
        "        lst.append(i)\n",
        "    return lst\n",
        "  \n",
        "def genListAuthor():\n",
        "  lst = df[\"Author\"].tolist()\n",
        "  authordb = []\n",
        "  for i in lst:\n",
        "    words = i.split(\" \")\n",
        "    for j in words:\n",
        "      j = re.sub('[^A-Za-z0-9]+', '', j)\n",
        "      if j not in authordb:\n",
        "        authordb.append(j)\n",
        "  return authordb\n",
        "\n",
        "authorAdvancedSearch('becke')"
      ],
      "execution_count": 0,
      "outputs": [
        {
          "output_type": "execute_result",
          "data": {
            "text/plain": [
              "[{'Author': 'Albertalli, Becky',\n",
              "  'Genre': 'LGBT',\n",
              "  'ISBN': '[006234868X, 9780062348685]',\n",
              "  'Title': 'Simon vs. the Homo Sapiens Agenda',\n",
              "  'Year': 2016}]"
            ]
          },
          "metadata": {
            "tags": []
          },
          "execution_count": 16
        }
      ]
    },
    {
      "cell_type": "code",
      "metadata": {
        "id": "tv4PsItvt3NN",
        "colab_type": "code",
        "outputId": "22b38059-1d40-426c-c5c7-630c885dc0e7",
        "colab": {
          "base_uri": "https://localhost:8080/",
          "height": 867
        }
      },
      "source": [
        "### Implementacion Una funcion ###\n",
        "\n",
        "def genreAdvancedSearch(genre):\n",
        "  lst = df[\"Genre\"].tolist()\n",
        "  genredb = []\n",
        "  for i in lst:\n",
        "    words = i.split(\" \")\n",
        "    for j in words:\n",
        "      j = re.sub('[^A-Za-z0-9]+', '', j)\n",
        "      if j not in genredb:\n",
        "        genredb.append(j)\n",
        "  temp = []\n",
        "  words = genre.split(\" \")\n",
        "  for i in words:\n",
        "    temp2 = []\n",
        "    dif = 1000000\n",
        "    for j in genredb:\n",
        "      dist = dis.levenshtein(i, j)\n",
        "      if dif > dist:\n",
        "        temp2.clear()\n",
        "        dif = dist\n",
        "        temp2.append(j)\n",
        "      elif dif == dist:\n",
        "        temp2.append(j)\n",
        "    temp += temp2\n",
        "    lst = []\n",
        "  for i in temp:\n",
        "    jsonvar = json.loads(df[df[\"Genre\"].str.contains(i, case=False)].drop('_id', axis=1).to_json(orient= \"records\",force_ascii=False))\n",
        "    templst = [i for i in jsonvar]\n",
        "    for i in templst:\n",
        "      if i not in lst:\n",
        "        lst.append(i)\n",
        "    return lst\n",
        "  \n",
        "\n",
        "genreAdvancedSearch('lg')"
      ],
      "execution_count": 0,
      "outputs": [
        {
          "output_type": "execute_result",
          "data": {
            "text/plain": [
              "[{'Author': 'Albertalli, Becky',\n",
              "  'Genre': 'LGBT',\n",
              "  'ISBN': '[006234868X, 9780062348685]',\n",
              "  'Title': 'Simon vs. the Homo Sapiens Agenda',\n",
              "  'Year': 2016},\n",
              " {'Author': 'Sáenz, Benjamin Alire',\n",
              "  'Genre': 'LGBT',\n",
              "  'ISBN': '[1442408936, 9781442408937]',\n",
              "  'Title': 'Aristotle and Dante Discover the Secrets of the Universe',\n",
              "  'Year': 2014},\n",
              " {'Author': 'Rowell, Rainbow',\n",
              "  'Genre': 'LGBT',\n",
              "  'ISBN': '[1250049555, 9781250049551]',\n",
              "  'Title': 'Carry On: A Novel',\n",
              "  'Year': 2015},\n",
              " {'Author': 'Lo, Malinda',\n",
              "  'Genre': 'LGBT',\n",
              "  'ISBN': '[031604010X, 9780316040105]',\n",
              "  'Title': 'Ash',\n",
              "  'Year': 2010},\n",
              " {'Author': 'Nelson, Jandy',\n",
              "  'Genre': 'LGBT',\n",
              "  'ISBN': '[0142425761, 9780142425763]',\n",
              "  'Title': \"I'll Give You the Sun\",\n",
              "  'Year': 2015},\n",
              " {'Author': 'Green, John',\n",
              "  'Genre': 'LGBT',\n",
              "  'ISBN': '[0142418471, 9780142418475]',\n",
              "  'Title': 'Will Grayson, Will Grayson',\n",
              "  'Year': 2011},\n",
              " {'Author': 'Garden, Nancy',\n",
              "  'Genre': 'LGBT',\n",
              "  'ISBN': '[0374400113, 9780374400118]',\n",
              "  'Title': 'Annie on My Mind',\n",
              "  'Year': 2007},\n",
              " {'Author': 'Levithan, David',\n",
              "  'Genre': 'LGBT',\n",
              "  'ISBN': '[9780375832994, 0375832998]',\n",
              "  'Title': 'Boy Meets Boy',\n",
              "  'Year': 2005},\n",
              " {'Author': 'Barakiva, Michael',\n",
              "  'Genre': 'LGBT',\n",
              "  'ISBN': '[125007357X, 9781250073570]',\n",
              "  'Title': 'One Man Guy',\n",
              "  'Year': 2016},\n",
              " {'Author': 'Bell, Jay',\n",
              "  'Genre': 'LGBT',\n",
              "  'ISBN': '[1453875042, 9781453875049]',\n",
              "  'Title': 'Something Like Summer',\n",
              "  'Year': 2011}]"
            ]
          },
          "metadata": {
            "tags": []
          },
          "execution_count": 57
        }
      ]
    },
    {
      "cell_type": "code",
      "metadata": {
        "id": "nWJ8nQYv0oaz",
        "colab_type": "code",
        "colab": {}
      },
      "source": [
        "def genreAdvancedSearch(genre):\n",
        "  genredb = genListAuthor()\n",
        "  temp = []\n",
        "  words = genre.split(\" \")\n",
        "  for i in words:\n",
        "    temp2 = []\n",
        "    dif = 1000000\n",
        "    for j in genredb:\n",
        "      dist = dis.levenshtein(i, j)\n",
        "      if dif > dist:\n",
        "        temp2.clear()\n",
        "        dif = dist\n",
        "        temp2.append(j)\n",
        "      elif dif == dist:\n",
        "        temp2.append(j)\n",
        "    temp += temp2\n",
        "    lst = []\n",
        "  for i in temp:\n",
        "    jsonvar = json.loads(df[df[\"Genre\"].str.contains(i, case=False)].drop('_id', axis=1).to_json(orient= \"records\",force_ascii=False))\n",
        "    templst = [i for i in jsonvar]\n",
        "    for i in templst:\n",
        "      if i not in lst:\n",
        "        lst.append(i)\n",
        "    return lst\n",
        "  \n",
        "def genListAuthor():\n",
        "  lst = df[\"Genre\"].tolist()\n",
        "  genredb = []\n",
        "  for i in lst:\n",
        "    words = i.split(\" \")\n",
        "    for j in words:\n",
        "      j = re.sub('[^A-Za-z0-9]+', '', j)\n",
        "      if j not in genredb:\n",
        "        genredb.append(j)\n",
        "  return genredb\n",
        "\n",
        "genreAdvancedSearch('LGBT')"
      ],
      "execution_count": 0,
      "outputs": []
    },
    {
      "cell_type": "code",
      "metadata": {
        "id": "B9YpsztgPPlS",
        "colab_type": "code",
        "colab": {}
      },
      "source": [
        "def searchTitleAd(title):\n",
        "  mycol = connectToDatabase() \n",
        "  df = pandas.DataFrame(list(mycol.find()))\n",
        "  \n",
        "  words = title.split(\" \")\n",
        "  lst = []\n",
        "  for i in words:\n",
        "    jsonvar = json.loads(df[df[\"Title\"].str.contains(i, case=False)].drop('_id', axis=1).to_json(orient= \"records\",force_ascii=False))\n",
        "    templst = [i for i in jsonvar]\n",
        "    for i in templst:\n",
        "      if i not in lst:\n",
        "        lst.append(i)\n",
        "\n",
        "    if len(lst) == 0:\n",
        "        lst = predictTitleSearch(title)\n",
        "\n",
        "    return lst"
      ],
      "execution_count": 0,
      "outputs": []
    },
    {
      "cell_type": "code",
      "metadata": {
        "id": "HbjoP6nHqpoN",
        "colab_type": "code",
        "outputId": "1db74d18-4ee2-48c9-8d16-1db7c58a5b01",
        "colab": {
          "base_uri": "https://localhost:8080/",
          "height": 34
        }
      },
      "source": [
        "pip install --upgrade setuptools"
      ],
      "execution_count": 0,
      "outputs": [
        {
          "output_type": "stream",
          "text": [
            "Requirement already up-to-date: setuptools in /usr/local/lib/python3.6/dist-packages (41.0.1)\n"
          ],
          "name": "stdout"
        }
      ]
    },
    {
      "cell_type": "code",
      "metadata": {
        "id": "dVXsboGBrizc",
        "colab_type": "code",
        "outputId": "d9909135-f52c-4486-b350-ee7792d39c44",
        "colab": {
          "base_uri": "https://localhost:8080/",
          "height": 122
        }
      },
      "source": [
        "pip install unirest"
      ],
      "execution_count": 0,
      "outputs": [
        {
          "output_type": "stream",
          "text": [
            "Collecting unirest\n",
            "  Using cached https://files.pythonhosted.org/packages/92/da/2149cbd7a8c78f8b76b377379c1bda64ec36cc13315d55f6f7de6d094ac5/Unirest-1.1.7.tar.gz\n",
            "Collecting poster>=0.8.1 (from unirest)\n",
            "  Using cached https://files.pythonhosted.org/packages/9f/dc/0683a458d21c3d561ab2f71b4fcdd812bf04e55c54e560b0854cea95610e/poster-0.8.1.tar.gz\n",
            "\u001b[31mCommand \"python setup.py egg_info\" failed with error code 1 in /tmp/pip-install-xzkyvvbv/poster/\u001b[0m\n"
          ],
          "name": "stdout"
        }
      ]
    },
    {
      "cell_type": "code",
      "metadata": {
        "id": "FHvPN96NqkrE",
        "colab_type": "code",
        "outputId": "91137552-955d-406d-8189-8d0362532262",
        "colab": {
          "base_uri": "https://localhost:8080/",
          "height": 34
        }
      },
      "source": [
        "\n",
        "\n",
        "result = response.json()\n",
        "print(result['response']['data']['rfc'])"
      ],
      "execution_count": 0,
      "outputs": [
        {
          "output_type": "stream",
          "text": [
            "EALE980629AP8\n"
          ],
          "name": "stdout"
        }
      ]
    },
    {
      "cell_type": "code",
      "metadata": {
        "id": "zEdRzmdsqmq5",
        "colab_type": "code",
        "outputId": "91b270cc-0e91-4657-afb6-d2a0dcbb8272",
        "colab": {
          "base_uri": "https://localhost:8080/",
          "height": 34
        }
      },
      "source": [
        "import requests\n",
        "def calculateRFC(name, flast, mlast, bdate):\n",
        "  \n",
        "  response = requests.get(\"https://jfhe88-rfc-generator-mexico.p.rapidapi.com/rest1/rfc/get?solo_homoclave=0&apellido_materno=\" + mlast + \"&apellido_paterno=\" + flast + \"&fecha=\" + bdate + \"&nombre=\" + name,\n",
        "  headers={\n",
        "    \"X-RapidAPI-Host\": \"jfhe88-rfc-generator-mexico.p.rapidapi.com\",\n",
        "    \"X-RapidAPI-Key\": \"2a61d98aa5msh60116bf72c2a6d4p109a2ajsn3a4998f5631e\"\n",
        "    }\n",
        "  )\n",
        "  \n",
        "  result = response.json()\n",
        "  return result['response']['data']['rfc']\n",
        "  \n",
        "calculateRFC('Emanuel','Estrada','Larios','1998-06-29')\n",
        "  "
      ],
      "execution_count": 0,
      "outputs": [
        {
          "output_type": "execute_result",
          "data": {
            "text/plain": [
              "'EALE980629AP8'"
            ]
          },
          "metadata": {
            "tags": []
          },
          "execution_count": 17
        }
      ]
    },
    {
      "cell_type": "code",
      "metadata": {
        "id": "DMmvu-97vIfp",
        "colab_type": "code",
        "outputId": "de557af9-70f1-492e-9601-bd543c8fc850",
        "colab": {
          "base_uri": "https://localhost:8080/",
          "height": 190
        }
      },
      "source": [
        ""
      ],
      "execution_count": 0,
      "outputs": [
        {
          "output_type": "stream",
          "text": [
            "Collecting names\n",
            "\u001b[?25l  Downloading https://files.pythonhosted.org/packages/44/4e/f9cb7ef2df0250f4ba3334fbdabaa94f9c88097089763d8e85ada8092f84/names-0.3.0.tar.gz (789kB)\n",
            "\u001b[K    100% |████████████████████████████████| 798kB 23.1MB/s \n",
            "\u001b[?25hBuilding wheels for collected packages: names\n",
            "  Building wheel for names (setup.py) ... \u001b[?25ldone\n",
            "\u001b[?25h  Stored in directory: /root/.cache/pip/wheels/f9/a5/e1/be3e0aaa6fa285575078fa2aafd9959b45bdbc8de8a6803aeb\n",
            "Successfully built names\n",
            "Installing collected packages: names\n",
            "Successfully installed names-0.3.0\n"
          ],
          "name": "stdout"
        }
      ]
    },
    {
      "cell_type": "code",
      "metadata": {
        "id": "-8DFfgFAvv4C",
        "colab_type": "code",
        "outputId": "e9a1bcb1-37a9-447c-b80e-6f8b4aa79b16",
        "colab": {
          "base_uri": "https://localhost:8080/",
          "height": 34
        }
      },
      "source": [
        "pip install names\n",
        "\n",
        "import names\n",
        "print(names.get_first_name(), names.get_last_name(), names.get_last_name())"
      ],
      "execution_count": 0,
      "outputs": [
        {
          "output_type": "stream",
          "text": [
            "Susan Soden Mckay\n"
          ],
          "name": "stdout"
        }
      ]
    },
    {
      "cell_type": "code",
      "metadata": {
        "id": "oLI1Nehev975",
        "colab_type": "code",
        "outputId": "88e476c5-a095-4f09-f3c2-c676e4b217ad",
        "colab": {
          "base_uri": "https://localhost:8080/",
          "height": 34
        }
      },
      "source": [
        "import random\n",
        "import time\n",
        "\n",
        "def strTimeProp(start, end, format, prop):\n",
        "    \"\"\"Get a time at a proportion of a range of two formatted times.\n",
        "\n",
        "    start and end should be strings specifying times formated in the\n",
        "    given format (strftime-style), giving an interval [start, end].\n",
        "    prop specifies how a proportion of the interval to be taken after\n",
        "    start.  The returned time will be in the specified format.\n",
        "    \"\"\"\n",
        "\n",
        "    stime = time.mktime(time.strptime(start, format))\n",
        "    etime = time.mktime(time.strptime(end, format))\n",
        "\n",
        "    ptime = stime + prop * (etime - stime)\n",
        "\n",
        "    return time.strftime(format, time.localtime(ptime))\n",
        "\n",
        "\n",
        "def randomDate(start, end, prop):\n",
        "    return strTimeProp(start, end, '%Y-%m-%d', prop)\n",
        "\n",
        "print(randomDate(\"1800-1-1\", \"2000-04-27\", random.random()))"
      ],
      "execution_count": 0,
      "outputs": [
        {
          "output_type": "stream",
          "text": [
            "1916-10-15\n"
          ],
          "name": "stdout"
        }
      ]
    },
    {
      "cell_type": "code",
      "metadata": {
        "id": "CzOz8kR4wfxE",
        "colab_type": "code",
        "colab": {}
      },
      "source": [
        ""
      ],
      "execution_count": 0,
      "outputs": []
    }
  ]
}